{
 "cells": [
  {
   "cell_type": "code",
   "execution_count": 81,
   "id": "d25cdef4",
   "metadata": {},
   "outputs": [],
   "source": [
    "import numpy as np\n",
    "import pandas as pd\n",
    "from sklearn.ensemble import RandomForestClassifier,AdaBoostClassifier\n",
    "from sklearn.tree import DecisionTreeClassifier\n",
    "from sklearn.neighbors import KNeighborsClassifier\n",
    "from sklearn.linear_model import LogisticRegression\n",
    "from sklearn.model_selection import train_test_split,GridSearchCV,RandomizedSearchCV\n",
    "\n",
    "from sklearn.metrics import confusion_matrix,classification_report,accuracy_score\n",
    "#from imblearn.over_sampling import SMOTE,RandomOverSampler\n",
    "import warnings\n",
    "warnings.filterwarnings(\"ignore\")"
   ]
  },
  {
   "cell_type": "code",
   "execution_count": 2,
   "id": "0d50f9a1",
   "metadata": {},
   "outputs": [
    {
     "data": {
      "text/html": [
       "<div>\n",
       "<style scoped>\n",
       "    .dataframe tbody tr th:only-of-type {\n",
       "        vertical-align: middle;\n",
       "    }\n",
       "\n",
       "    .dataframe tbody tr th {\n",
       "        vertical-align: top;\n",
       "    }\n",
       "\n",
       "    .dataframe thead th {\n",
       "        text-align: right;\n",
       "    }\n",
       "</style>\n",
       "<table border=\"1\" class=\"dataframe\">\n",
       "  <thead>\n",
       "    <tr style=\"text-align: right;\">\n",
       "      <th></th>\n",
       "      <th>age</th>\n",
       "      <th>sex</th>\n",
       "      <th>cp</th>\n",
       "      <th>trestbps</th>\n",
       "      <th>chol</th>\n",
       "      <th>fbs</th>\n",
       "      <th>restecg</th>\n",
       "      <th>thalach</th>\n",
       "      <th>exang</th>\n",
       "      <th>oldpeak</th>\n",
       "      <th>slope</th>\n",
       "      <th>ca</th>\n",
       "      <th>thal</th>\n",
       "      <th>target</th>\n",
       "    </tr>\n",
       "  </thead>\n",
       "  <tbody>\n",
       "    <tr>\n",
       "      <th>0</th>\n",
       "      <td>63</td>\n",
       "      <td>1</td>\n",
       "      <td>3</td>\n",
       "      <td>145</td>\n",
       "      <td>233</td>\n",
       "      <td>1</td>\n",
       "      <td>0</td>\n",
       "      <td>150</td>\n",
       "      <td>0</td>\n",
       "      <td>2.3</td>\n",
       "      <td>0</td>\n",
       "      <td>0</td>\n",
       "      <td>1</td>\n",
       "      <td>1</td>\n",
       "    </tr>\n",
       "    <tr>\n",
       "      <th>1</th>\n",
       "      <td>37</td>\n",
       "      <td>1</td>\n",
       "      <td>2</td>\n",
       "      <td>130</td>\n",
       "      <td>250</td>\n",
       "      <td>0</td>\n",
       "      <td>1</td>\n",
       "      <td>187</td>\n",
       "      <td>0</td>\n",
       "      <td>3.5</td>\n",
       "      <td>0</td>\n",
       "      <td>0</td>\n",
       "      <td>2</td>\n",
       "      <td>1</td>\n",
       "    </tr>\n",
       "    <tr>\n",
       "      <th>2</th>\n",
       "      <td>41</td>\n",
       "      <td>0</td>\n",
       "      <td>1</td>\n",
       "      <td>130</td>\n",
       "      <td>204</td>\n",
       "      <td>0</td>\n",
       "      <td>0</td>\n",
       "      <td>172</td>\n",
       "      <td>0</td>\n",
       "      <td>1.4</td>\n",
       "      <td>2</td>\n",
       "      <td>0</td>\n",
       "      <td>2</td>\n",
       "      <td>1</td>\n",
       "    </tr>\n",
       "    <tr>\n",
       "      <th>3</th>\n",
       "      <td>56</td>\n",
       "      <td>1</td>\n",
       "      <td>1</td>\n",
       "      <td>120</td>\n",
       "      <td>236</td>\n",
       "      <td>0</td>\n",
       "      <td>1</td>\n",
       "      <td>178</td>\n",
       "      <td>0</td>\n",
       "      <td>0.8</td>\n",
       "      <td>2</td>\n",
       "      <td>0</td>\n",
       "      <td>2</td>\n",
       "      <td>1</td>\n",
       "    </tr>\n",
       "    <tr>\n",
       "      <th>4</th>\n",
       "      <td>57</td>\n",
       "      <td>0</td>\n",
       "      <td>0</td>\n",
       "      <td>120</td>\n",
       "      <td>354</td>\n",
       "      <td>0</td>\n",
       "      <td>1</td>\n",
       "      <td>163</td>\n",
       "      <td>1</td>\n",
       "      <td>0.6</td>\n",
       "      <td>2</td>\n",
       "      <td>0</td>\n",
       "      <td>2</td>\n",
       "      <td>1</td>\n",
       "    </tr>\n",
       "  </tbody>\n",
       "</table>\n",
       "</div>"
      ],
      "text/plain": [
       "   age  sex  cp  trestbps  chol  fbs  restecg  thalach  exang  oldpeak  slope  \\\n",
       "0   63    1   3       145   233    1        0      150      0      2.3      0   \n",
       "1   37    1   2       130   250    0        1      187      0      3.5      0   \n",
       "2   41    0   1       130   204    0        0      172      0      1.4      2   \n",
       "3   56    1   1       120   236    0        1      178      0      0.8      2   \n",
       "4   57    0   0       120   354    0        1      163      1      0.6      2   \n",
       "\n",
       "   ca  thal  target  \n",
       "0   0     1       1  \n",
       "1   0     2       1  \n",
       "2   0     2       1  \n",
       "3   0     2       1  \n",
       "4   0     2       1  "
      ]
     },
     "execution_count": 2,
     "metadata": {},
     "output_type": "execute_result"
    }
   ],
   "source": [
    "df = pd.read_csv(\"heart.csv\")\n",
    "df.head()"
   ]
  },
  {
   "cell_type": "code",
   "execution_count": 3,
   "id": "13176b7e",
   "metadata": {},
   "outputs": [
    {
     "data": {
      "text/plain": [
       "1    165\n",
       "0    138\n",
       "Name: target, dtype: int64"
      ]
     },
     "execution_count": 3,
     "metadata": {},
     "output_type": "execute_result"
    }
   ],
   "source": [
    "df[\"target\"].value_counts()"
   ]
  },
  {
   "cell_type": "markdown",
   "id": "f726a5c8",
   "metadata": {},
   "source": [
    "# Model Training"
   ]
  },
  {
   "cell_type": "code",
   "execution_count": 4,
   "id": "32e2e5db",
   "metadata": {},
   "outputs": [],
   "source": [
    "x = df.drop(\"target\",axis=1) \n",
    "y = df[\"target\"]\n",
    "# x\n",
    "x_train,x_test,y_train,y_test = train_test_split(x,y,test_size=0.2,random_state=45,stratify=y)"
   ]
  },
  {
   "cell_type": "markdown",
   "id": "d7d24a37",
   "metadata": {},
   "source": [
    "# Model selection"
   ]
  },
  {
   "cell_type": "markdown",
   "id": "265de980",
   "metadata": {},
   "source": [
    "# HyperParameterTunning DT"
   ]
  },
  {
   "cell_type": "code",
   "execution_count": 5,
   "id": "be39c35e",
   "metadata": {},
   "outputs": [
    {
     "data": {
      "text/plain": [
       "RandomizedSearchCV(cv=5, estimator=DecisionTreeClassifier(),\n",
       "                   param_distributions={'criterion': ['gini', 'entropy'],\n",
       "                                        'max_depth': array([10, 11, 12, 13, 14, 15, 16, 17, 18, 19, 20, 21, 22, 23, 24, 25, 26,\n",
       "       27, 28, 29, 30, 31, 32, 33, 34, 35, 36, 37, 38, 39, 40, 41, 42, 43,\n",
       "       44, 45, 46, 47, 48, 49, 50, 51, 52, 53, 54, 55, 56, 57, 58, 59]),\n",
       "                                        'min_samples_leaf': array([ 1,  2,  3,  4,  5,  6,  7,  8,  9, 10, 11]),\n",
       "                                        'min_samples_split': array([ 3,  4,  5,  6,  7,  8,  9, 10, 11, 12, 13, 14, 15, 16, 17, 18, 19,\n",
       "       20, 21, 22, 23, 24, 25, 26, 27, 28, 29, 30, 31, 32, 33, 34, 35, 36,\n",
       "       37, 38, 39, 40, 41, 42, 43, 44, 45, 46, 47, 48, 49, 50, 51, 52, 53,\n",
       "       54, 55, 56, 57, 58, 59]),\n",
       "                                        'random_state': [42, 43, 45, 46]})"
      ]
     },
     "execution_count": 5,
     "metadata": {},
     "output_type": "execute_result"
    }
   ],
   "source": [
    "dt_clf = DecisionTreeClassifier()\n",
    "hyper_paramter = {\"criterion\":['gini',\"entropy\"],\n",
    "                \"max_depth\":np.arange(10,60),\n",
    "                 \"min_samples_split\":np.arange(3,60),\n",
    "                 \"min_samples_leaf\":np.arange(1,12),\n",
    "                 \"random_state\":[42,43,45,46]}\n",
    "rscv_dt = RandomizedSearchCV(dt_clf,hyper_paramter,cv=5)\n",
    "rscv_dt.fit(x_train,y_train)"
   ]
  },
  {
   "cell_type": "code",
   "execution_count": 6,
   "id": "3c01e34b",
   "metadata": {},
   "outputs": [
    {
     "data": {
      "text/plain": [
       "DecisionTreeClassifier(max_depth=37, min_samples_leaf=9, min_samples_split=15,\n",
       "                       random_state=43)"
      ]
     },
     "execution_count": 6,
     "metadata": {},
     "output_type": "execute_result"
    }
   ],
   "source": [
    "rscv_dt.best_estimator_"
   ]
  },
  {
   "cell_type": "markdown",
   "id": "654e5ebe",
   "metadata": {},
   "source": [
    "# 1.DecisionTree"
   ]
  },
  {
   "cell_type": "code",
   "execution_count": 7,
   "id": "3a5c5d7e",
   "metadata": {},
   "outputs": [
    {
     "data": {
      "text/plain": [
       "DecisionTreeClassifier(max_depth=23, min_samples_leaf=4, min_samples_split=9,\n",
       "                       random_state=42)"
      ]
     },
     "execution_count": 7,
     "metadata": {},
     "output_type": "execute_result"
    }
   ],
   "source": [
    "dt_clf = DecisionTreeClassifier(max_depth=23, min_samples_leaf=4, min_samples_split=9,\n",
    "                       random_state=42)\n",
    "dt_clf.fit(x_train,y_train)"
   ]
  },
  {
   "cell_type": "markdown",
   "id": "f7b50c99",
   "metadata": {},
   "source": [
    "## Evalution"
   ]
  },
  {
   "cell_type": "markdown",
   "id": "1aa783e5",
   "metadata": {},
   "source": [
    "### Training"
   ]
  },
  {
   "cell_type": "code",
   "execution_count": 8,
   "id": "085f6e56",
   "metadata": {},
   "outputs": [
    {
     "name": "stdout",
     "output_type": "stream",
     "text": [
      "confusion metrics\n",
      " [[101   9]\n",
      " [ 15 117]]\n",
      "accuracy 0.9008264462809917\n",
      "clf_report\n",
      "               precision    recall  f1-score   support\n",
      "\n",
      "           0       0.87      0.92      0.89       110\n",
      "           1       0.93      0.89      0.91       132\n",
      "\n",
      "    accuracy                           0.90       242\n",
      "   macro avg       0.90      0.90      0.90       242\n",
      "weighted avg       0.90      0.90      0.90       242\n",
      "\n"
     ]
    }
   ],
   "source": [
    "y_pred_train = dt_clf.predict(x_train)\n",
    "\n",
    "cnf_metrics = confusion_matrix(y_train,y_pred_train)\n",
    "print(\"confusion metrics\\n\",cnf_metrics)\n",
    "\n",
    "accuracy = accuracy_score(y_train,y_pred_train)\n",
    "print(\"accuracy\",accuracy)\n",
    "clf_report = classification_report(y_train,y_pred_train)\n",
    "print(\"clf_report\\n\",clf_report)"
   ]
  },
  {
   "cell_type": "markdown",
   "id": "c679bd95",
   "metadata": {},
   "source": [
    "### Testing"
   ]
  },
  {
   "cell_type": "code",
   "execution_count": 9,
   "id": "33819d83",
   "metadata": {},
   "outputs": [
    {
     "name": "stdout",
     "output_type": "stream",
     "text": [
      "confusion metrics\n",
      " [[19  9]\n",
      " [ 7 26]]\n",
      "accuracy 0.7377049180327869\n",
      "clf_report\n",
      "               precision    recall  f1-score   support\n",
      "\n",
      "           0       0.73      0.68      0.70        28\n",
      "           1       0.74      0.79      0.76        33\n",
      "\n",
      "    accuracy                           0.74        61\n",
      "   macro avg       0.74      0.73      0.73        61\n",
      "weighted avg       0.74      0.74      0.74        61\n",
      "\n"
     ]
    }
   ],
   "source": [
    "y_pred_test = dt_clf.predict(x_test)\n",
    "\n",
    "cnf_metrics = confusion_matrix(y_test,y_pred_test)\n",
    "print(\"confusion metrics\\n\",cnf_metrics)\n",
    "\n",
    "accuracy = accuracy_score(y_test,y_pred_test)\n",
    "print(\"accuracy\",accuracy)\n",
    "clf_report = classification_report(y_test,y_pred_test)\n",
    "print(\"clf_report\\n\",clf_report)"
   ]
  },
  {
   "cell_type": "markdown",
   "id": "2d5a9fc1",
   "metadata": {},
   "source": [
    "# Pruning"
   ]
  },
  {
   "cell_type": "code",
   "execution_count": 10,
   "id": "005d0883",
   "metadata": {},
   "outputs": [
    {
     "data": {
      "text/plain": [
       "DecisionTreeClassifier(random_state=49)"
      ]
     },
     "execution_count": 10,
     "metadata": {},
     "output_type": "execute_result"
    }
   ],
   "source": [
    "d_tree_model = DecisionTreeClassifier(random_state=49,ccp_alpha=0.0)\n",
    "d_tree_model.fit(x_train,y_train)"
   ]
  },
  {
   "cell_type": "markdown",
   "id": "bb615503",
   "metadata": {},
   "source": [
    "# Evaluation"
   ]
  },
  {
   "cell_type": "markdown",
   "id": "a8a9c9b0",
   "metadata": {},
   "source": [
    "### Training"
   ]
  },
  {
   "cell_type": "code",
   "execution_count": 11,
   "id": "46914a60",
   "metadata": {},
   "outputs": [
    {
     "name": "stdout",
     "output_type": "stream",
     "text": [
      "confusion metrics\n",
      " [[101   9]\n",
      " [ 15 117]]\n",
      "accuracy 0.9008264462809917\n",
      "clf_report\n",
      "               precision    recall  f1-score   support\n",
      "\n",
      "           0       0.87      0.92      0.89       110\n",
      "           1       0.93      0.89      0.91       132\n",
      "\n",
      "    accuracy                           0.90       242\n",
      "   macro avg       0.90      0.90      0.90       242\n",
      "weighted avg       0.90      0.90      0.90       242\n",
      "\n"
     ]
    }
   ],
   "source": [
    "\n",
    "y_pred_train = dt_clf.predict(x_train)\n",
    "\n",
    "cnf_metrics = confusion_matrix(y_train,y_pred_train)\n",
    "print(\"confusion metrics\\n\",cnf_metrics)\n",
    "\n",
    "accuracy = accuracy_score(y_train,y_pred_train)\n",
    "print(\"accuracy\",accuracy)\n",
    "clf_report = classification_report(y_train,y_pred_train)\n",
    "print(\"clf_report\\n\",clf_report)"
   ]
  },
  {
   "cell_type": "markdown",
   "id": "c1413be5",
   "metadata": {},
   "source": [
    "### Testing"
   ]
  },
  {
   "cell_type": "code",
   "execution_count": 53,
   "id": "70381272",
   "metadata": {},
   "outputs": [
    {
     "name": "stdout",
     "output_type": "stream",
     "text": [
      "confusion metrics\n",
      " [[19  9]\n",
      " [ 7 26]]\n",
      "accuracy 0.7377049180327869\n",
      "clf_report\n",
      "               precision    recall  f1-score   support\n",
      "\n",
      "           0       0.73      0.68      0.70        28\n",
      "           1       0.74      0.79      0.76        33\n",
      "\n",
      "    accuracy                           0.74        61\n",
      "   macro avg       0.74      0.73      0.73        61\n",
      "weighted avg       0.74      0.74      0.74        61\n",
      "\n"
     ]
    }
   ],
   "source": [
    "y_pred_test = dt_clf.predict(x_test)\n",
    "\n",
    "cnf_metrics = confusion_matrix(y_test,y_pred_test)\n",
    "print(\"confusion metrics\\n\",cnf_metrics)\n",
    "\n",
    "accuracy = accuracy_score(y_test,y_pred_test)\n",
    "print(\"accuracy\",accuracy)\n",
    "clf_report = classification_report(y_test,y_pred_test)\n",
    "print(\"clf_report\\n\",clf_report)"
   ]
  },
  {
   "cell_type": "markdown",
   "id": "d11a8bda",
   "metadata": {},
   "source": [
    "# Post_Prunning"
   ]
  },
  {
   "cell_type": "code",
   "execution_count": 12,
   "id": "305a7657",
   "metadata": {},
   "outputs": [
    {
     "data": {
      "text/plain": [
       "array([0.        , 0.00385675, 0.00404431, 0.00407056, 0.0050632 ,\n",
       "       0.00522877, 0.00550964, 0.00661157, 0.00688705, 0.00688705,\n",
       "       0.0072314 , 0.00768603, 0.00782949, 0.00991736, 0.00991736,\n",
       "       0.01056015, 0.01114265, 0.01115702, 0.01126972, 0.01398368,\n",
       "       0.01496458, 0.02568847, 0.0377135 , 0.04855589, 0.1419503 ])"
      ]
     },
     "execution_count": 12,
     "metadata": {},
     "output_type": "execute_result"
    }
   ],
   "source": [
    "dict_result = d_tree_model.cost_complexity_pruning_path(x_train,y_train)\n",
    "ccp_alphas_list = dict_result[\"ccp_alphas\"]\n",
    "ccp_alphas_list"
   ]
  },
  {
   "cell_type": "code",
   "execution_count": 14,
   "id": "9da4376d",
   "metadata": {},
   "outputs": [
    {
     "data": {
      "text/plain": [
       "[1.0,\n",
       " 0.9958677685950413,\n",
       " 0.9917355371900827,\n",
       " 0.987603305785124,\n",
       " 0.9793388429752066,\n",
       " 0.9710743801652892,\n",
       " 0.9628099173553719,\n",
       " 0.9586776859504132,\n",
       " 0.9504132231404959,\n",
       " 0.9504132231404959,\n",
       " 0.9462809917355371,\n",
       " 0.9380165289256198,\n",
       " 0.9338842975206612,\n",
       " 0.9256198347107438,\n",
       " 0.9132231404958677,\n",
       " 0.8884297520661157,\n",
       " 0.8884297520661157,\n",
       " 0.8842975206611571,\n",
       " 0.8636363636363636,\n",
       " 0.859504132231405,\n",
       " 0.8347107438016529,\n",
       " 0.8347107438016529,\n",
       " 0.7768595041322314,\n",
       " 0.768595041322314,\n",
       " 0.5454545454545454]"
      ]
     },
     "execution_count": 14,
     "metadata": {},
     "output_type": "execute_result"
    }
   ],
   "source": [
    "train_accuracy_list = []\n",
    "test_accuracy_list = []\n",
    "for ccp_alpha_v in ccp_alphas_list:\n",
    "    dt_clf_1 = DecisionTreeClassifier(random_state=45,ccp_alpha=ccp_alpha_v)\n",
    "    dt_clf_1.fit(x_train,y_train)\n",
    "    \n",
    "    train_accuracy_list.append(dt_clf_1.score(x_train,y_train))\n",
    "    test_accuracy_list.append(dt_clf_1.score(x_test,y_test))\n",
    "train_accuracy_list"
   ]
  },
  {
   "cell_type": "code",
   "execution_count": 15,
   "id": "dc415017",
   "metadata": {},
   "outputs": [
    {
     "data": {
      "text/plain": [
       "[0.7213114754098361,\n",
       " 0.7213114754098361,\n",
       " 0.7213114754098361,\n",
       " 0.7213114754098361,\n",
       " 0.7049180327868853,\n",
       " 0.7377049180327869,\n",
       " 0.7377049180327869,\n",
       " 0.7377049180327869,\n",
       " 0.7377049180327869,\n",
       " 0.7377049180327869,\n",
       " 0.7377049180327869,\n",
       " 0.7377049180327869,\n",
       " 0.7377049180327869,\n",
       " 0.7377049180327869,\n",
       " 0.7377049180327869,\n",
       " 0.7540983606557377,\n",
       " 0.7540983606557377,\n",
       " 0.7704918032786885,\n",
       " 0.7704918032786885,\n",
       " 0.7868852459016393,\n",
       " 0.7868852459016393,\n",
       " 0.7868852459016393,\n",
       " 0.7377049180327869,\n",
       " 0.7213114754098361,\n",
       " 0.5409836065573771]"
      ]
     },
     "execution_count": 15,
     "metadata": {},
     "output_type": "execute_result"
    }
   ],
   "source": [
    "test_accuracy_list"
   ]
  },
  {
   "cell_type": "code",
   "execution_count": 16,
   "id": "2eda7bcb",
   "metadata": {},
   "outputs": [
    {
     "data": {
      "text/plain": [
       "(array([19, 20, 21], dtype=int64),)"
      ]
     },
     "execution_count": 16,
     "metadata": {},
     "output_type": "execute_result"
    }
   ],
   "source": [
    "np.where(test_accuracy_list == np.max(test_accuracy_list))"
   ]
  },
  {
   "cell_type": "code",
   "execution_count": 17,
   "id": "a9df430a",
   "metadata": {},
   "outputs": [
    {
     "data": {
      "text/plain": [
       "0.7868852459016393"
      ]
     },
     "execution_count": 17,
     "metadata": {},
     "output_type": "execute_result"
    }
   ],
   "source": [
    "test_accuracy_list[21]"
   ]
  },
  {
   "cell_type": "code",
   "execution_count": 18,
   "id": "605915aa",
   "metadata": {},
   "outputs": [
    {
     "data": {
      "text/plain": [
       "0.8347107438016529"
      ]
     },
     "execution_count": 18,
     "metadata": {},
     "output_type": "execute_result"
    }
   ],
   "source": [
    "train_accuracy_list[21]"
   ]
  },
  {
   "cell_type": "markdown",
   "id": "7b22ad40",
   "metadata": {},
   "source": [
    "# 2. RandomForest"
   ]
  },
  {
   "cell_type": "code",
   "execution_count": 19,
   "id": "0d6b46b7",
   "metadata": {},
   "outputs": [
    {
     "data": {
      "text/plain": [
       "RandomForestClassifier()"
      ]
     },
     "execution_count": 19,
     "metadata": {},
     "output_type": "execute_result"
    }
   ],
   "source": [
    "rf_clf = RandomForestClassifier()\n",
    "rf_clf.fit(x_train,y_train)"
   ]
  },
  {
   "cell_type": "markdown",
   "id": "2e62a788",
   "metadata": {},
   "source": [
    "## Evalution"
   ]
  },
  {
   "cell_type": "markdown",
   "id": "de29315a",
   "metadata": {},
   "source": [
    "### Training "
   ]
  },
  {
   "cell_type": "code",
   "execution_count": 20,
   "id": "93e661a6",
   "metadata": {},
   "outputs": [
    {
     "name": "stdout",
     "output_type": "stream",
     "text": [
      "confusion metrics\n",
      " [[110   0]\n",
      " [  0 132]]\n",
      "accuracy 1.0\n",
      "clf_report\n",
      "               precision    recall  f1-score   support\n",
      "\n",
      "           0       1.00      1.00      1.00       110\n",
      "           1       1.00      1.00      1.00       132\n",
      "\n",
      "    accuracy                           1.00       242\n",
      "   macro avg       1.00      1.00      1.00       242\n",
      "weighted avg       1.00      1.00      1.00       242\n",
      "\n"
     ]
    }
   ],
   "source": [
    "y_pred_train = rf_clf.predict(x_train)\n",
    "\n",
    "cnf_metrics = confusion_matrix(y_train,y_pred_train)\n",
    "print(\"confusion metrics\\n\",cnf_metrics)\n",
    "\n",
    "accuracy = accuracy_score(y_train,y_pred_train)\n",
    "print(\"accuracy\",accuracy)\n",
    "clf_report = classification_report(y_train,y_pred_train)\n",
    "print(\"clf_report\\n\",clf_report)"
   ]
  },
  {
   "cell_type": "markdown",
   "id": "c52f10e2",
   "metadata": {},
   "source": [
    "## Testing"
   ]
  },
  {
   "cell_type": "code",
   "execution_count": 21,
   "id": "99646f52",
   "metadata": {},
   "outputs": [
    {
     "name": "stdout",
     "output_type": "stream",
     "text": [
      "confusion metrics\n",
      " [[17 11]\n",
      " [ 2 31]]\n",
      "accuracy 0.7868852459016393\n",
      "clf_report\n",
      "               precision    recall  f1-score   support\n",
      "\n",
      "           0       0.89      0.61      0.72        28\n",
      "           1       0.74      0.94      0.83        33\n",
      "\n",
      "    accuracy                           0.79        61\n",
      "   macro avg       0.82      0.77      0.78        61\n",
      "weighted avg       0.81      0.79      0.78        61\n",
      "\n"
     ]
    }
   ],
   "source": [
    "y_pred_test = rf_clf.predict(x_test)\n",
    "\n",
    "cnf_metrics = confusion_matrix(y_test,y_pred_test)\n",
    "print(\"confusion metrics\\n\",cnf_metrics)\n",
    "\n",
    "accuracy = accuracy_score(y_test,y_pred_test)\n",
    "print(\"accuracy\",accuracy)\n",
    "clf_report = classification_report(y_test,y_pred_test)\n",
    "print(\"clf_report\\n\",clf_report)"
   ]
  },
  {
   "cell_type": "markdown",
   "id": "766798e2",
   "metadata": {},
   "source": [
    "# HperParameterTunning RF"
   ]
  },
  {
   "cell_type": "code",
   "execution_count": 44,
   "id": "ea6db9be",
   "metadata": {},
   "outputs": [
    {
     "data": {
      "text/plain": [
       "RandomizedSearchCV(cv=5, estimator=RandomForestClassifier(),\n",
       "                   param_distributions={'criterion': ['gini', 'entropy'],\n",
       "                                        'max_depth': array([10, 11, 12, 13, 14, 15, 16, 17, 18, 19, 20, 21, 22, 23, 24, 25, 26,\n",
       "       27, 28, 29, 30, 31, 32, 33, 34, 35, 36, 37, 38, 39, 40, 41, 42, 43,\n",
       "       44, 45, 46, 47, 48, 49, 50, 51, 52, 53, 54, 55, 56, 57, 58, 59]),\n",
       "                                        'min_samples_leaf': array([ 1,  2,  3,  4,  5,  6,  7,  8,  9, 10, 11]),\n",
       "                                        'min_samples_split': array([ 3,  4,  5,  6,  7,  8,  9, 10, 11, 12, 13, 14, 15, 16, 17, 18, 19,\n",
       "       20, 21, 22, 23, 24, 25, 26, 27, 28, 29, 30, 31, 32, 33, 34, 35, 36,\n",
       "       37, 38, 39, 40, 41, 42, 43, 44, 45, 46, 47, 48, 49, 50, 51, 52, 53,\n",
       "       54, 55, 56, 57, 58, 59]),\n",
       "                                        'n_estimators': array([10, 11, 12, 13, 14, 15, 16, 17, 18, 19]),\n",
       "                                        'oob_score': [True],\n",
       "                                        'random_state': [42, 43, 45, 46]})"
      ]
     },
     "execution_count": 44,
     "metadata": {},
     "output_type": "execute_result"
    }
   ],
   "source": [
    "rf_clf1 = RandomForestClassifier()\n",
    "hyper_paramter = {\"n_estimators\":np.arange(10,20),\n",
    "                  \"criterion\":['gini',\"entropy\"],\n",
    "                \"max_depth\":np.arange(10,60),\n",
    "                 \"min_samples_split\":np.arange(3,60),\n",
    "                 \"min_samples_leaf\":np.arange(1,12),\n",
    "                 \"random_state\":[42,43,45,46],\n",
    "                 \"oob_score\":[True]}\n",
    "rscv_rf = RandomizedSearchCV(rf_clf1,hyper_paramter,cv=5)\n",
    "rscv_rf.fit(x_train,y_train)"
   ]
  },
  {
   "cell_type": "code",
   "execution_count": 45,
   "id": "decdeb93",
   "metadata": {},
   "outputs": [
    {
     "data": {
      "text/plain": [
       "RandomForestClassifier(max_depth=31, min_samples_split=40, n_estimators=14,\n",
       "                       oob_score=True, random_state=43)"
      ]
     },
     "execution_count": 45,
     "metadata": {},
     "output_type": "execute_result"
    }
   ],
   "source": [
    "rscv_rf.best_estimator_"
   ]
  },
  {
   "cell_type": "code",
   "execution_count": 47,
   "id": "dcee22c0",
   "metadata": {},
   "outputs": [],
   "source": [
    "rf_clf1 =RandomForestClassifier(max_depth=31, min_samples_split=40, n_estimators=14,\n",
    "                       oob_score=True, random_state=43)"
   ]
  },
  {
   "cell_type": "code",
   "execution_count": 49,
   "id": "4a73d527",
   "metadata": {},
   "outputs": [
    {
     "data": {
      "text/plain": [
       "RandomForestClassifier(max_depth=31, min_samples_split=40, n_estimators=14,\n",
       "                       oob_score=True, random_state=43)"
      ]
     },
     "execution_count": 49,
     "metadata": {},
     "output_type": "execute_result"
    }
   ],
   "source": [
    "rf_clf1.fit(x_train,y_train)"
   ]
  },
  {
   "cell_type": "markdown",
   "id": "0de277f3",
   "metadata": {},
   "source": [
    "### traing"
   ]
  },
  {
   "cell_type": "code",
   "execution_count": 50,
   "id": "9501bab3",
   "metadata": {},
   "outputs": [
    {
     "name": "stdout",
     "output_type": "stream",
     "text": [
      "confusion metrics\n",
      " [[ 93  17]\n",
      " [ 12 120]]\n",
      "accuracy 0.8801652892561983\n",
      "clf_report\n",
      "               precision    recall  f1-score   support\n",
      "\n",
      "           0       0.89      0.85      0.87       110\n",
      "           1       0.88      0.91      0.89       132\n",
      "\n",
      "    accuracy                           0.88       242\n",
      "   macro avg       0.88      0.88      0.88       242\n",
      "weighted avg       0.88      0.88      0.88       242\n",
      "\n"
     ]
    }
   ],
   "source": [
    "y_pred_train = rf_clf1.predict(x_train)\n",
    "\n",
    "cnf_metrics = confusion_matrix(y_train,y_pred_train)\n",
    "print(\"confusion metrics\\n\",cnf_metrics)\n",
    "\n",
    "accuracy = accuracy_score(y_train,y_pred_train)\n",
    "print(\"accuracy\",accuracy)\n",
    "clf_report = classification_report(y_train,y_pred_train)\n",
    "print(\"clf_report\\n\",clf_report)"
   ]
  },
  {
   "cell_type": "code",
   "execution_count": 51,
   "id": "5b894875",
   "metadata": {},
   "outputs": [
    {
     "name": "stdout",
     "output_type": "stream",
     "text": [
      "confusion metrics\n",
      " [[17 11]\n",
      " [ 2 31]]\n",
      "accuracy 0.7868852459016393\n",
      "clf_report\n",
      "               precision    recall  f1-score   support\n",
      "\n",
      "           0       0.89      0.61      0.72        28\n",
      "           1       0.74      0.94      0.83        33\n",
      "\n",
      "    accuracy                           0.79        61\n",
      "   macro avg       0.82      0.77      0.78        61\n",
      "weighted avg       0.81      0.79      0.78        61\n",
      "\n"
     ]
    }
   ],
   "source": [
    "y_pred_test = rf_clf1.predict(x_test)\n",
    "\n",
    "cnf_metrics = confusion_matrix(y_test,y_pred_test)\n",
    "print(\"confusion metrics\\n\",cnf_metrics)\n",
    "\n",
    "accuracy = accuracy_score(y_test,y_pred_test)\n",
    "print(\"accuracy\",accuracy)\n",
    "clf_report = classification_report(y_test,y_pred_test)\n",
    "print(\"clf_report\\n\",clf_report)"
   ]
  },
  {
   "cell_type": "markdown",
   "id": "6ea030b0",
   "metadata": {},
   "source": [
    "# ADA"
   ]
  },
  {
   "cell_type": "code",
   "execution_count": 87,
   "id": "de656187",
   "metadata": {},
   "outputs": [
    {
     "data": {
      "text/plain": [
       "AdaBoostClassifier()"
      ]
     },
     "execution_count": 87,
     "metadata": {},
     "output_type": "execute_result"
    }
   ],
   "source": [
    "adb_clf= AdaBoostClassifier()\n",
    "adb_clf.fit(x_train,y_train)"
   ]
  },
  {
   "cell_type": "markdown",
   "id": "8db72116",
   "metadata": {},
   "source": [
    "## Evalution"
   ]
  },
  {
   "cell_type": "markdown",
   "id": "3ea354df",
   "metadata": {},
   "source": [
    "### Training"
   ]
  },
  {
   "cell_type": "code",
   "execution_count": 88,
   "id": "ab56b76e",
   "metadata": {},
   "outputs": [
    {
     "name": "stdout",
     "output_type": "stream",
     "text": [
      "confusion metrics\n",
      " [[105   5]\n",
      " [  7 125]]\n",
      "accuracy 0.9504132231404959\n",
      "clf_report\n",
      "               precision    recall  f1-score   support\n",
      "\n",
      "           0       0.94      0.95      0.95       110\n",
      "           1       0.96      0.95      0.95       132\n",
      "\n",
      "    accuracy                           0.95       242\n",
      "   macro avg       0.95      0.95      0.95       242\n",
      "weighted avg       0.95      0.95      0.95       242\n",
      "\n"
     ]
    }
   ],
   "source": [
    "y_pred_train = adb_clf.predict(x_train)\n",
    "\n",
    "cnf_metrics = confusion_matrix(y_train,y_pred_train)\n",
    "print(\"confusion metrics\\n\",cnf_metrics)\n",
    "\n",
    "accuracy = accuracy_score(y_train,y_pred_train)\n",
    "print(\"accuracy\",accuracy)\n",
    "clf_report = classification_report(y_train,y_pred_train)\n",
    "print(\"clf_report\\n\",clf_report)"
   ]
  },
  {
   "cell_type": "markdown",
   "id": "ad984940",
   "metadata": {},
   "source": [
    "### Testing"
   ]
  },
  {
   "cell_type": "code",
   "execution_count": 89,
   "id": "b1d099f6",
   "metadata": {},
   "outputs": [
    {
     "name": "stdout",
     "output_type": "stream",
     "text": [
      "confusion metrics\n",
      " [[16 12]\n",
      " [ 4 29]]\n",
      "accuracy 0.7377049180327869\n",
      "clf_report\n",
      "               precision    recall  f1-score   support\n",
      "\n",
      "           0       0.80      0.57      0.67        28\n",
      "           1       0.71      0.88      0.78        33\n",
      "\n",
      "    accuracy                           0.74        61\n",
      "   macro avg       0.75      0.73      0.73        61\n",
      "weighted avg       0.75      0.74      0.73        61\n",
      "\n"
     ]
    }
   ],
   "source": [
    "y_pred_test = adb_clf.predict(x_test)\n",
    "\n",
    "cnf_metrics = confusion_matrix(y_test,y_pred_test)\n",
    "print(\"confusion metrics\\n\",cnf_metrics)\n",
    "\n",
    "accuracy = accuracy_score(y_test,y_pred_test)\n",
    "print(\"accuracy\",accuracy)\n",
    "clf_report = classification_report(y_test,y_pred_test)\n",
    "print(\"clf_report\\n\",clf_report)"
   ]
  },
  {
   "cell_type": "markdown",
   "id": "1602cc8e",
   "metadata": {},
   "source": [
    "# HyperParameterTunning ADA"
   ]
  },
  {
   "cell_type": "code",
   "execution_count": 52,
   "id": "6fe0b455",
   "metadata": {},
   "outputs": [
    {
     "data": {
      "text/plain": [
       "RandomizedSearchCV(cv=5, estimator=AdaBoostClassifier(),\n",
       "                   param_distributions={'learning_rate': array([0.000e+00, 1.000e-03, 2.000e-03, ..., 3.997e+00, 3.998e+00,\n",
       "       3.999e+00]),\n",
       "                                        'n_estimators': array([10, 11, 12, 13, 14, 15, 16, 17, 18, 19, 20, 21, 22, 23, 24, 25, 26,\n",
       "       27, 28, 29, 30, 31, 32, 33, 34, 35, 36, 37, 38, 39, 40, 41, 42, 43,\n",
       "       44, 45, 46, 47, 48, 49, 50, 51, 52, 53, 54, 55, 56, 57, 58, 59])})"
      ]
     },
     "execution_count": 52,
     "metadata": {},
     "output_type": "execute_result"
    }
   ],
   "source": [
    "adb_clf1 = AdaBoostClassifier()\n",
    "hyper_paramter = {\"n_estimators\":np.arange(10,60),\n",
    "                 \"learning_rate\":np.arange(0,4,0.001)}\n",
    "rscv_adb = RandomizedSearchCV(adb_clf1,hyper_paramter,cv=5)\n",
    "rscv_adb.fit(x_train,y_train)"
   ]
  },
  {
   "cell_type": "code",
   "execution_count": 54,
   "id": "2e7397a2",
   "metadata": {},
   "outputs": [
    {
     "data": {
      "text/plain": [
       "AdaBoostClassifier(learning_rate=0.307, n_estimators=11)"
      ]
     },
     "execution_count": 54,
     "metadata": {},
     "output_type": "execute_result"
    }
   ],
   "source": [
    "rscv_adb.best_estimator_\n"
   ]
  },
  {
   "cell_type": "code",
   "execution_count": 56,
   "id": "cbe4868e",
   "metadata": {},
   "outputs": [
    {
     "data": {
      "text/plain": [
       "AdaBoostClassifier(learning_rate=0.307, n_estimators=11)"
      ]
     },
     "execution_count": 56,
     "metadata": {},
     "output_type": "execute_result"
    }
   ],
   "source": [
    "adb_clf1 =AdaBoostClassifier(learning_rate=0.307, n_estimators=11)\n",
    "adb_clf1.fit(x_train,y_train)"
   ]
  },
  {
   "cell_type": "code",
   "execution_count": 57,
   "id": "a9835535",
   "metadata": {},
   "outputs": [
    {
     "name": "stdout",
     "output_type": "stream",
     "text": [
      "confusion metrics\n",
      " [[ 86  24]\n",
      " [ 11 121]]\n",
      "accuracy 0.8553719008264463\n",
      "clf_report\n",
      "               precision    recall  f1-score   support\n",
      "\n",
      "           0       0.89      0.78      0.83       110\n",
      "           1       0.83      0.92      0.87       132\n",
      "\n",
      "    accuracy                           0.86       242\n",
      "   macro avg       0.86      0.85      0.85       242\n",
      "weighted avg       0.86      0.86      0.85       242\n",
      "\n"
     ]
    }
   ],
   "source": [
    "y_pred_train = adb_clf1.predict(x_train)\n",
    "\n",
    "cnf_metrics = confusion_matrix(y_train,y_pred_train)\n",
    "print(\"confusion metrics\\n\",cnf_metrics)\n",
    "\n",
    "accuracy = accuracy_score(y_train,y_pred_train)\n",
    "print(\"accuracy\",accuracy)\n",
    "clf_report = classification_report(y_train,y_pred_train)\n",
    "print(\"clf_report\\n\",clf_report)"
   ]
  },
  {
   "cell_type": "code",
   "execution_count": 58,
   "id": "1d7e38e4",
   "metadata": {},
   "outputs": [
    {
     "name": "stdout",
     "output_type": "stream",
     "text": [
      "confusion metrics\n",
      " [[16 12]\n",
      " [ 3 30]]\n",
      "accuracy 0.7540983606557377\n",
      "clf_report\n",
      "               precision    recall  f1-score   support\n",
      "\n",
      "           0       0.84      0.57      0.68        28\n",
      "           1       0.71      0.91      0.80        33\n",
      "\n",
      "    accuracy                           0.75        61\n",
      "   macro avg       0.78      0.74      0.74        61\n",
      "weighted avg       0.77      0.75      0.75        61\n",
      "\n"
     ]
    }
   ],
   "source": [
    "y_pred_test = adb_clf1.predict(x_test)\n",
    "\n",
    "cnf_metrics = confusion_matrix(y_test,y_pred_test)\n",
    "print(\"confusion metrics\\n\",cnf_metrics)\n",
    "\n",
    "accuracy = accuracy_score(y_test,y_pred_test)\n",
    "print(\"accuracy\",accuracy)\n",
    "clf_report = classification_report(y_test,y_pred_test)\n",
    "print(\"clf_report\\n\",clf_report)"
   ]
  },
  {
   "cell_type": "markdown",
   "id": "9988b188",
   "metadata": {},
   "source": [
    "# 4. KNN with hyperParameter "
   ]
  },
  {
   "cell_type": "markdown",
   "id": "ce96d84c",
   "metadata": {},
   "source": [
    "## 1.GridSearchCv"
   ]
  },
  {
   "cell_type": "code",
   "execution_count": 61,
   "id": "3427f962",
   "metadata": {},
   "outputs": [
    {
     "data": {
      "text/plain": [
       "KNeighborsClassifier(p=1)"
      ]
     },
     "execution_count": 61,
     "metadata": {},
     "output_type": "execute_result"
    }
   ],
   "source": [
    "knn_clf = KNeighborsClassifier()\n",
    "hyperparameter = {\"n_neighbors\":np.arange(2,20),\n",
    "                 \"p\":[1,2]}\n",
    "gscv_knn_clf = GridSearchCV(knn_clf,hyperparameter,cv=5)\n",
    "gscv_knn_clf.fit(x_train,y_train)\n",
    "gscv_knn_clf.best_estimator_"
   ]
  },
  {
   "cell_type": "code",
   "execution_count": 62,
   "id": "9ec917d3",
   "metadata": {},
   "outputs": [
    {
     "data": {
      "text/plain": [
       "{'n_neighbors': 5, 'p': 1}"
      ]
     },
     "execution_count": 62,
     "metadata": {},
     "output_type": "execute_result"
    }
   ],
   "source": [
    "gscv_knn_clf.best_params_"
   ]
  },
  {
   "cell_type": "code",
   "execution_count": 63,
   "id": "f38df3d3",
   "metadata": {},
   "outputs": [
    {
     "data": {
      "text/plain": [
       "KNeighborsClassifier(p=1)"
      ]
     },
     "execution_count": 63,
     "metadata": {},
     "output_type": "execute_result"
    }
   ],
   "source": [
    "knn_clf = KNeighborsClassifier(p=1)\n",
    "knn_clf.fit(x_train,y_train)"
   ]
  },
  {
   "cell_type": "markdown",
   "id": "b98fe77e",
   "metadata": {},
   "source": [
    "# evaluation"
   ]
  },
  {
   "cell_type": "markdown",
   "id": "bc4b788a",
   "metadata": {},
   "source": [
    "### Training"
   ]
  },
  {
   "cell_type": "code",
   "execution_count": 64,
   "id": "ab8ed422",
   "metadata": {},
   "outputs": [
    {
     "name": "stdout",
     "output_type": "stream",
     "text": [
      "confusion metrics\n",
      " [[ 88  22]\n",
      " [ 21 111]]\n",
      "********************\n",
      "Accuracy\n",
      " 0.8223140495867769\n",
      "********************\n",
      "classification report\n",
      "               precision    recall  f1-score   support\n",
      "\n",
      "           0       0.81      0.80      0.80       110\n",
      "           1       0.83      0.84      0.84       132\n",
      "\n",
      "    accuracy                           0.82       242\n",
      "   macro avg       0.82      0.82      0.82       242\n",
      "weighted avg       0.82      0.82      0.82       242\n",
      "\n"
     ]
    }
   ],
   "source": [
    "y_pred_train = knn_clf.predict(x_train)\n",
    "\n",
    "cnf_metrics = confusion_matrix(y_train,y_pred_train)\n",
    "print(\"confusion metrics\\n\",cnf_metrics)\n",
    "print(\"*\"*20)\n",
    "accuracy = accuracy_score(y_train,y_pred_train)\n",
    "print(\"Accuracy\\n\",accuracy)\n",
    "print(\"*\"*20)\n",
    "clf_report = classification_report(y_train,y_pred_train)\n",
    "print(\"classification report\\n\",clf_report)"
   ]
  },
  {
   "cell_type": "markdown",
   "id": "64218450",
   "metadata": {},
   "source": [
    "### Testing"
   ]
  },
  {
   "cell_type": "code",
   "execution_count": 65,
   "id": "713799c6",
   "metadata": {},
   "outputs": [
    {
     "name": "stdout",
     "output_type": "stream",
     "text": [
      "confusion metrics\n",
      " [[14 14]\n",
      " [ 4 29]]\n",
      "********************\n",
      "Accuracy\n",
      " 0.7049180327868853\n",
      "********************\n",
      "classification report\n",
      "               precision    recall  f1-score   support\n",
      "\n",
      "           0       0.78      0.50      0.61        28\n",
      "           1       0.67      0.88      0.76        33\n",
      "\n",
      "    accuracy                           0.70        61\n",
      "   macro avg       0.73      0.69      0.69        61\n",
      "weighted avg       0.72      0.70      0.69        61\n",
      "\n"
     ]
    }
   ],
   "source": [
    "y_pred_test = knn_clf.predict(x_test)\n",
    "\n",
    "cnf_metrics = confusion_matrix(y_test,y_pred_test)\n",
    "print(\"confusion metrics\\n\",cnf_metrics)\n",
    "print(\"*\"*20)\n",
    "accuracy = accuracy_score(y_test,y_pred_test)\n",
    "print(\"Accuracy\\n\",accuracy)\n",
    "print(\"*\"*20)\n",
    "clf_report = classification_report(y_test,y_pred_test)\n",
    "print(\"classification report\\n\",clf_report)"
   ]
  },
  {
   "cell_type": "markdown",
   "id": "56684a66",
   "metadata": {},
   "source": [
    "## 2. RandomisedSearchCv"
   ]
  },
  {
   "cell_type": "code",
   "execution_count": 76,
   "id": "ef1f17d2",
   "metadata": {},
   "outputs": [
    {
     "data": {
      "text/plain": [
       "KNeighborsClassifier(n_neighbors=28, p=1)"
      ]
     },
     "execution_count": 76,
     "metadata": {},
     "output_type": "execute_result"
    }
   ],
   "source": [
    "knn_clf1 = KNeighborsClassifier()\n",
    "hyperparameter = {\"n_neighbors\":np.arange(3,40),\n",
    "                 \"p\":[1,2]}\n",
    "rscv_knn_clf1 = RandomizedSearchCV(knn_clf,hyperparameter,cv=5)\n",
    "rscv_knn_clf1.fit(x_train,y_train)\n",
    "rscv_knn_clf1.best_estimator_"
   ]
  },
  {
   "cell_type": "code",
   "execution_count": 77,
   "id": "9b659d02",
   "metadata": {},
   "outputs": [
    {
     "data": {
      "text/plain": [
       "KNeighborsClassifier(n_neighbors=28, p=1)"
      ]
     },
     "execution_count": 77,
     "metadata": {},
     "output_type": "execute_result"
    }
   ],
   "source": [
    "knn_clf1 = KNeighborsClassifier(n_neighbors=28, p=1)\n",
    "knn_clf1.fit(x_train,y_train)\n"
   ]
  },
  {
   "cell_type": "markdown",
   "id": "733c2270",
   "metadata": {},
   "source": [
    "## Evaluation"
   ]
  },
  {
   "cell_type": "markdown",
   "id": "96b24f7b",
   "metadata": {},
   "source": [
    "### 1.Training"
   ]
  },
  {
   "cell_type": "code",
   "execution_count": 78,
   "id": "ec29d8c8",
   "metadata": {},
   "outputs": [
    {
     "name": "stdout",
     "output_type": "stream",
     "text": [
      "confusion metrics\n",
      " [[ 72  38]\n",
      " [ 27 105]]\n",
      "********************\n",
      "Accuracy\n",
      " 0.731404958677686\n",
      "********************\n",
      "classification report\n",
      "               precision    recall  f1-score   support\n",
      "\n",
      "           0       0.73      0.65      0.69       110\n",
      "           1       0.73      0.80      0.76       132\n",
      "\n",
      "    accuracy                           0.73       242\n",
      "   macro avg       0.73      0.72      0.73       242\n",
      "weighted avg       0.73      0.73      0.73       242\n",
      "\n"
     ]
    }
   ],
   "source": [
    "\n",
    "y_pred_train = knn_clf1.predict(x_train)\n",
    "\n",
    "cnf_metrics = confusion_matrix(y_train,y_pred_train)\n",
    "print(\"confusion metrics\\n\",cnf_metrics)\n",
    "print(\"*\"*20)\n",
    "accuracy = accuracy_score(y_train,y_pred_train)\n",
    "print(\"Accuracy\\n\",accuracy)\n",
    "print(\"*\"*20)\n",
    "clf_report = classification_report(y_train,y_pred_train)\n",
    "print(\"classification report\\n\",clf_report)"
   ]
  },
  {
   "cell_type": "markdown",
   "id": "15b6d510",
   "metadata": {},
   "source": [
    "### 2.Testing"
   ]
  },
  {
   "cell_type": "code",
   "execution_count": 79,
   "id": "1a599646",
   "metadata": {},
   "outputs": [
    {
     "name": "stdout",
     "output_type": "stream",
     "text": [
      "confusion metrics\n",
      " [[14 14]\n",
      " [ 4 29]]\n",
      "********************\n",
      "Accuracy\n",
      " 0.7049180327868853\n",
      "********************\n",
      "classification report\n",
      "               precision    recall  f1-score   support\n",
      "\n",
      "           0       0.78      0.50      0.61        28\n",
      "           1       0.67      0.88      0.76        33\n",
      "\n",
      "    accuracy                           0.70        61\n",
      "   macro avg       0.73      0.69      0.69        61\n",
      "weighted avg       0.72      0.70      0.69        61\n",
      "\n"
     ]
    }
   ],
   "source": [
    "\n",
    "y_pred_test = knn_clf.predict(x_test)\n",
    "\n",
    "cnf_metrics = confusion_matrix(y_test,y_pred_test)\n",
    "print(\"confusion metrics\\n\",cnf_metrics)\n",
    "print(\"*\"*20)\n",
    "accuracy = accuracy_score(y_test,y_pred_test)\n",
    "print(\"Accuracy\\n\",accuracy)\n",
    "print(\"*\"*20)\n",
    "clf_report = classification_report(y_test,y_pred_test)\n",
    "print(\"classification report\\n\",clf_report)"
   ]
  },
  {
   "cell_type": "markdown",
   "id": "aaa2d903",
   "metadata": {},
   "source": [
    "# 5.Logistic Regrassion"
   ]
  },
  {
   "cell_type": "code",
   "execution_count": 82,
   "id": "906bd67f",
   "metadata": {},
   "outputs": [
    {
     "data": {
      "text/plain": [
       "LogisticRegression()"
      ]
     },
     "execution_count": 82,
     "metadata": {},
     "output_type": "execute_result"
    }
   ],
   "source": [
    "lr_model= LogisticRegression()\n",
    "lr_model.fit(x_train,y_train)"
   ]
  },
  {
   "cell_type": "markdown",
   "id": "8cde5d6c",
   "metadata": {},
   "source": [
    "## Evalution"
   ]
  },
  {
   "cell_type": "markdown",
   "id": "bf47fa05",
   "metadata": {},
   "source": [
    "### Training"
   ]
  },
  {
   "cell_type": "code",
   "execution_count": 84,
   "id": "866c5ba2",
   "metadata": {},
   "outputs": [
    {
     "name": "stdout",
     "output_type": "stream",
     "text": [
      "confusion metrics\n",
      " [[ 88  22]\n",
      " [  9 123]]\n",
      "********************\n",
      "Accuracy\n",
      " 0.871900826446281\n",
      "********************\n",
      "classification report\n",
      "               precision    recall  f1-score   support\n",
      "\n",
      "           0       0.91      0.80      0.85       110\n",
      "           1       0.85      0.93      0.89       132\n",
      "\n",
      "    accuracy                           0.87       242\n",
      "   macro avg       0.88      0.87      0.87       242\n",
      "weighted avg       0.88      0.87      0.87       242\n",
      "\n"
     ]
    }
   ],
   "source": [
    "\n",
    "y_pred_train = lr_model.predict(x_train)\n",
    "\n",
    "cnf_metrics = confusion_matrix(y_train,y_pred_train)\n",
    "print(\"confusion metrics\\n\",cnf_metrics)\n",
    "print(\"*\"*20)\n",
    "accuracy = accuracy_score(y_train,y_pred_train)\n",
    "print(\"Accuracy\\n\",accuracy)\n",
    "print(\"*\"*20)\n",
    "clf_report = classification_report(y_train,y_pred_train)\n",
    "print(\"classification report\\n\",clf_report)"
   ]
  },
  {
   "cell_type": "markdown",
   "id": "d17a6518",
   "metadata": {},
   "source": [
    "### Testing"
   ]
  },
  {
   "cell_type": "code",
   "execution_count": 83,
   "id": "79e35e34",
   "metadata": {},
   "outputs": [
    {
     "name": "stdout",
     "output_type": "stream",
     "text": [
      "confusion metrics\n",
      " [[17 11]\n",
      " [ 2 31]]\n",
      "********************\n",
      "Accuracy\n",
      " 0.7868852459016393\n",
      "********************\n",
      "classification report\n",
      "               precision    recall  f1-score   support\n",
      "\n",
      "           0       0.89      0.61      0.72        28\n",
      "           1       0.74      0.94      0.83        33\n",
      "\n",
      "    accuracy                           0.79        61\n",
      "   macro avg       0.82      0.77      0.78        61\n",
      "weighted avg       0.81      0.79      0.78        61\n",
      "\n"
     ]
    }
   ],
   "source": [
    "y_pred_test = lr_model.predict(x_test)\n",
    "\n",
    "cnf_metrics = confusion_matrix(y_test,y_pred_test)\n",
    "print(\"confusion metrics\\n\",cnf_metrics)\n",
    "print(\"*\"*20)\n",
    "accuracy = accuracy_score(y_test,y_pred_test)\n",
    "print(\"Accuracy\\n\",accuracy)\n",
    "print(\"*\"*20)\n",
    "clf_report = classification_report(y_test,y_pred_test)\n",
    "print(\"classification report\\n\",clf_report)"
   ]
  },
  {
   "cell_type": "code",
   "execution_count": null,
   "id": "22ff324b",
   "metadata": {},
   "outputs": [],
   "source": [
    "Model                       Training accuracy      Testing accuracy       Precision        Recall \n",
    "DT_Hyperparamter                      90%                 73%                87%           92% \n",
    "DT_Pruning                            88%                 78%\n",
    "RF_Hyper                              88%                 77%                89%           85%\n",
    "RF_Without Hyper                      100                 78%                100           100\n",
    "Adaboost_Without                      95%                 73%                94%           95%\n",
    "Adaboost_Hyperpar                     86%                 73%                89%           78% \n",
    "KNN_hyperpara                         74%                 71%                73%           65%\n",
    "Logistic                              87%                78%                 89%           61%"
   ]
  },
  {
   "cell_type": "code",
   "execution_count": null,
   "id": "7b1f1631",
   "metadata": {},
   "outputs": [],
   "source": [
    "#age\tsex\tcp\ttrestbps\tchol\tfbs\trestecg\tthalach\texang\toldpeak\tslope\tca\tthal\ttarget"
   ]
  },
  {
   "cell_type": "code",
   "execution_count": null,
   "id": "8212864e",
   "metadata": {},
   "outputs": [],
   "source": [
    "project_data = {\"columns\":list(x.columns)}\n"
   ]
  },
  {
   "cell_type": "code",
   "execution_count": null,
   "id": "08970c70",
   "metadata": {},
   "outputs": [],
   "source": [
    "column_names = x.columns\n",
    "test_array = np.zeros(x.shape[1])\n",
    "test_array[0] = age\n",
    "test_array[1] = sex\n",
    "test_array[2] = cp\n",
    "test_array[3] = trestbps\n",
    "test_array[4] = chol\n",
    "test_array[5] = fbs\n",
    "test_array[6] = restecg\n",
    "test_array[7] = thalach\n",
    "test_array[8] = exang\n",
    "test_array[9] = oldpeak\n",
    "test_array[10] = slope\n",
    "test_array[11] = ca\n",
    "test_array[12] = thal\n",
    "\n",
    "test_array"
   ]
  },
  {
   "cell_type": "code",
   "execution_count": null,
   "id": "ef4157df",
   "metadata": {},
   "outputs": [],
   "source": [
    "with open(\"RF_CLF.pkl\",\"wb\") as f:\n",
    "    pickle.dump(rf_clf1,f)"
   ]
  }
 ],
 "metadata": {
  "kernelspec": {
   "display_name": "Python 3 (ipykernel)",
   "language": "python",
   "name": "python3"
  },
  "language_info": {
   "codemirror_mode": {
    "name": "ipython",
    "version": 3
   },
   "file_extension": ".py",
   "mimetype": "text/x-python",
   "name": "python",
   "nbconvert_exporter": "python",
   "pygments_lexer": "ipython3",
   "version": "3.9.12"
  }
 },
 "nbformat": 4,
 "nbformat_minor": 5
}
